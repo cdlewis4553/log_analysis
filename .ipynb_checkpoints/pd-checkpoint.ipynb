{
 "cells": [
  {
   "cell_type": "code",
   "execution_count": 1,
   "metadata": {},
   "outputs": [],
   "source": [
    "import numpy as np\n",
    "import pandas as pd\n",
    "import matplotlib.pyplot as plt"
   ]
  },
  {
   "cell_type": "code",
   "execution_count": 2,
   "metadata": {},
   "outputs": [],
   "source": [
    "def remove_acks(panda):\n",
    "    panda = panda[panda['TCPport_dst'] == 445]\n",
    "    return panda "
   ]
  },
  {
   "cell_type": "code",
   "execution_count": 3,
   "metadata": {},
   "outputs": [],
   "source": [
    "def remove_treeID(panda, treeID):\n",
    "    panda = panda[panda['TreeID'] != treeID]\n",
    "    return panda"
   ]
  },
  {
   "cell_type": "code",
   "execution_count": 4,
   "metadata": {},
   "outputs": [],
   "source": [
    "def remove_SessionID(panda, SessionID):\n",
    "    panda = panda[panda['SessionID'] != SessionID]\n",
    "    return panda"
   ]
  },
  {
   "cell_type": "code",
   "execution_count": 5,
   "metadata": {},
   "outputs": [],
   "source": [
    "def read_from_txt(file_name):\n",
    "    df = pd.read_csv(file_name, encoding = \"ISO-8859-1\", sep=\" \",index_col=False)\n",
    "    return df"
   ]
  },
  {
   "cell_type": "code",
   "execution_count": 6,
   "metadata": {},
   "outputs": [],
   "source": [
    "def create_csv(panda, file_name):\n",
    "    panda.to_csv(file_name, index=False)"
   ]
  },
  {
   "cell_type": "code",
   "execution_count": 7,
   "metadata": {},
   "outputs": [],
   "source": [
    "def plot_freq_over_time(panda, SMBcommand, num_bins):\n",
    "    plt.hist(x=panda.loc[panda['SMBcommand'] == SMBcommand].Timestamp , bins=num_bins)\n",
    "    plt.show()"
   ]
  },
  {
   "cell_type": "code",
   "execution_count": 14,
   "metadata": {},
   "outputs": [],
   "source": [
    "#sopa = read_from_txt(\"full_io_files/Spora_17052017.txt\")\n",
    "sopa = pd.read_csv(\"sopa.csv\")\n",
    "sopa = remove_acks(sopa)\n",
    "sopa = remove_treeID(sopa, 0)\n",
    "sopa = remove_SessionID(sopa, 0)\n",
    "create_csv(sopa, \"saved_csv/Spora_17052017.csv\")"
   ]
  },
  {
   "cell_type": "code",
   "execution_count": 9,
   "metadata": {},
   "outputs": [],
   "source": [
    "wanna = read_from_txt(\"full_io_files/wannaCry_16052017.txt\")\n",
    "wanna = remove_acks(wanna)\n",
    "wanna = remove_treeID(wanna, 0)\n",
    "wanna = remove_SessionID(wanna, 0)\n",
    "create_csv(wanna, \"saved_csv/wannaCry_16052017.csv\")"
   ]
  },
  {
   "cell_type": "code",
   "execution_count": 10,
   "metadata": {},
   "outputs": [],
   "source": [
    "revange =read_from_txt(\"full_io_files/revenge_15032018.txt\")\n",
    "#revange = remove_acks(revange)\n",
    "#revange = remove_treeID(revange, 0)\n",
    "#revange = remove_SessionID(revange, 0)\n",
    "create_csv(revange, \"saved_csv/revenge_15032018.csv\")"
   ]
  },
  {
   "cell_type": "code",
   "execution_count": 19,
   "metadata": {},
   "outputs": [],
   "source": [
    "crptFile =read_from_txt(\"full_io_files/CryptFile2_10112016.txt\")\n",
    "#crptFile = remove_acks(crptFile)\n",
    "#crptFile = remove_treeID(crptFile, 0)\n",
    "#crptFile = remove_SessionID(crptFile, 0)\n",
    "create_csv(crptFile, \"saved_csv/CryptFile2_10112016.csv\")"
   ]
  },
  {
   "cell_type": "code",
   "execution_count": 11,
   "metadata": {},
   "outputs": [
    {
     "data": {
      "image/png": "[encoded data removed]",
      "text/plain": [
       "<Figure size 432x288 with 1 Axes>"
      ]
     },
     "metadata": {
      "needs_background": "light"
     },
     "output_type": "display_data"
    }
   ],
   "source": [
    "plot_freq_over_time(wanna, 17, 200)"
   ]
  },
  {
   "cell_type": "code",
   "execution_count": 18,
   "metadata": {},
   "outputs": [
    {
     "data": {
      "image/png": "[encoded data removed]",
      "text/plain": [
       "<Figure size 432x288 with 1 Axes>"
      ]
     },
     "metadata": {
      "needs_background": "light"
     },
     "output_type": "display_data"
    }
   ],
   "source": [
    "plot_freq_over_time(sopa, 5, 200)"
   ]
  }
 ],
 "metadata": {
  "kernelspec": {
   "display_name": "Python 3",
   "language": "python",
   "name": "python3"
  },
  "language_info": {
   "codemirror_mode": {
    "name": "ipython",
    "version": 3
   },
   "file_extension": ".py",
   "mimetype": "text/x-python",
   "name": "python",
   "nbconvert_exporter": "python",
   "pygments_lexer": "ipython3",
   "version": "3.8.5"
  }
 },
 "nbformat": 4,
 "nbformat_minor": 4
}
