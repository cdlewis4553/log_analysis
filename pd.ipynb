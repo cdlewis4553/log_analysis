{
 "cells": [
  {
   "cell_type": "code",
   "execution_count": 1,
   "metadata": {},
   "outputs": [],
   "source": [
    "import numpy as np\n",
    "import pandas as pd\n",
    "import matplotlib.pyplot as plt"
   ]
  },
  {
   "cell_type": "code",
   "execution_count": 2,
   "metadata": {},
   "outputs": [],
   "source": [
    "def remove_acks(panda):\n",
    "    panda = panda[panda['TCPport_dst'] == 445]\n",
    "    return panda "
   ]
  },
  {
   "cell_type": "code",
   "execution_count": 3,
   "metadata": {},
   "outputs": [],
   "source": [
    "def remove_treeID(panda, treeID):\n",
    "    panda = panda[panda['TreeID'] != treeID]\n",
    "    return panda"
   ]
  },
  {
   "cell_type": "code",
   "execution_count": 4,
   "metadata": {},
   "outputs": [],
   "source": [
    "def remove_SessionID(panda, SessionID):\n",
    "    panda = panda[panda['SessionID'] != SessionID]\n",
    "    return panda"
   ]
  },
  {
   "cell_type": "code",
   "execution_count": 5,
   "metadata": {},
   "outputs": [],
   "source": [
    "def read_from_txt(file_name):\n",
    "    df = pd.read_csv(file_name, encoding = \"ISO-8859-1\", sep=\" \",index_col=False)\n",
    "    return df"
   ]
  },
  {
   "cell_type": "code",
   "execution_count": 6,
   "metadata": {},
   "outputs": [],
   "source": [
    "def create_csv(panda, file_name):\n",
    "    panda.to_csv(file_name, index=False)"
   ]
  },
  {
   "cell_type": "code",
   "execution_count": 7,
   "metadata": {},
   "outputs": [],
   "source": [
    "def plot_freq_over_time(panda, SMBcommand, num_bins):\n",
    "    plt.hist(x=panda.loc[panda['SMBcommand'] == SMBcommand].Timestamp , bins=num_bins)\n",
    "    plt.show()"
   ]
  },
  {
   "cell_type": "code",
   "execution_count": 8,
   "metadata": {},
   "outputs": [],
   "source": [
    "def pie_chart(panda):\n",
    "    labels = '4', '5', '6', '7', '8','9', '10', '11', '12','13','14', '15', '16', '17'\n",
    "    sizes = [len(panda.loc[panda['SMBcommand'] == 4]),\n",
    "             len(panda.loc[panda['SMBcommand'] == 5]),\n",
    "             len(panda.loc[panda['SMBcommand'] == 6]),\n",
    "             len(panda.loc[panda['SMBcommand'] == 7]),\n",
    "             len(panda.loc[panda['SMBcommand'] == 8]),\n",
    "             len(panda.loc[panda['SMBcommand'] == 9]),\n",
    "             len(panda.loc[panda['SMBcommand'] == 10]),\n",
    "             len(panda.loc[panda['SMBcommand'] == 11]),\n",
    "             len(panda.loc[panda['SMBcommand'] == 12]),\n",
    "             len(panda.loc[panda['SMBcommand'] == 13]),\n",
    "             len(panda.loc[panda['SMBcommand'] == 14]),\n",
    "             len(panda.loc[panda['SMBcommand'] == 15]),\n",
    "             len(panda.loc[panda['SMBcommand'] == 16]),\n",
    "             len(panda.loc[panda['SMBcommand'] == 17])] \n",
    "\n",
    "    fig1, ax1 = plt.subplots()\n",
    "    ax1.pie(sizes, labels=labels, autopct='%1.1f%%',\n",
    "            shadow=True, startangle=90)\n",
    "    ax1.axis('equal')  # Equal aspect ratio ensures that pie is drawn as a circle.\n",
    "\n",
    "    plt.show()"
   ]
  },
  {
   "cell_type": "code",
   "execution_count": 9,
   "metadata": {},
   "outputs": [],
   "source": [
    "def stat_summary_of_command(panda, SMBcommand, final):\n",
    "    interval_range = pd.interval_range(start=0, freq=5, end=final, closed='left')\n",
    "    bucket= panda.loc[panda['SMBcommand'] == SMBcommand]\n",
    "    bucket = pd.cut(bucket['Timestamp'], bins=interval_range)\n",
    "    print(bucket.value_counts().describe())\n",
    "    fig1, ax1 = plt.subplots()\n",
    "    ax1.set_title(\"Frequncy of call \"+ str(SMBcommand))\n",
    "    ax1.boxplot(bucket.value_counts())\n"
   ]
  },
  {
   "cell_type": "code",
   "execution_count": 10,
   "metadata": {},
   "outputs": [],
   "source": [
    "def percentage_of_call(panda, SMBcommand):\n",
    "    total = len(panda)\n",
    "    SMB_total= len(panda.loc[panda['SMBcommand'] == SMBcommand])\n",
    "    print(\"\\nThis comamnd \"+ str(SMBcommand))\n",
    "    print(\"all calls \"+ str(total))\n",
    "    print(\"this call \" +str(SMB_total))\n",
    "    print(\"percentage \"+str(SMB_total/total))"
   ]
  },
  {
   "cell_type": "code",
   "execution_count": 11,
   "metadata": {},
   "outputs": [],
   "source": [
    "def show_all_percentage(panda):\n",
    "    for x in range(0, 19):\n",
    "        percentage_of_call(panda, x)"
   ]
  },
  {
   "cell_type": "code",
   "execution_count": 12,
   "metadata": {},
   "outputs": [],
   "source": [
    "sopa = read_from_txt(\"full_io_files/Spora_17052017.txt\")\n",
    "#sopa = pd.read_csv(\"saved_csv/Spora_17052017.csv\")\n",
    "#sopa = remove_acks(sopa)\n",
    "#sopa = remove_treeID(sopa, 0)\n",
    "#sopa = remove_SessionID(sopa, 0)\n",
    "create_csv(sopa, \"saved_csv/Spora_17052017.csv\")"
   ]
  },
  {
   "cell_type": "code",
   "execution_count": 13,
   "metadata": {},
   "outputs": [],
   "source": [
    "wanna = read_from_txt(\"full_io_files/wannaCry_16052017.txt\")\n",
    "wanna = remove_acks(wanna)\n",
    "wanna = remove_treeID(wanna, 0)\n",
    "wanna = remove_SessionID(wanna, 0)\n",
    "create_csv(wanna, \"saved_csv/wannaCry_16052017.csv\")"
   ]
  },
  {
   "cell_type": "code",
   "execution_count": 14,
   "metadata": {},
   "outputs": [],
   "source": [
    "revange =read_from_txt(\"full_io_files/revenge_15032018.txt\")\n",
    "revange = remove_acks(revange)\n",
    "revange = remove_treeID(revange, 0)\n",
    "revange = remove_SessionID(revange, 0)\n",
    "revange = remove_SessionID(revange, 4398046511193)\n",
    "create_csv(revange, \"saved_csv/revenge_15032018.csv\")"
   ]
  },
  {
   "cell_type": "code",
   "execution_count": 15,
   "metadata": {},
   "outputs": [],
   "source": [
    "crptFile =read_from_txt(\"full_io_files/CryptFile2_10112016.txt\")\n",
    "crptFile = remove_acks(crptFile)\n",
    "crptFile = remove_treeID(crptFile, 0)\n",
    "crptFile = remove_SessionID(crptFile, 0)\n",
    "create_csv(crptFile, \"saved_csv/CryptFile2_10112016.csv\")"
   ]
  },
  {
   "cell_type": "code",
   "execution_count": 16,
   "metadata": {},
   "outputs": [
    {
     "data": {
      "image/png": "[encoded data removed]",
      "text/plain": [
       "<Figure size 432x288 with 1 Axes>"
      ]
     },
     "metadata": {
      "needs_background": "light"
     },
     "output_type": "display_data"
    }
   ],
   "source": [
    "plot_freq_over_time(wanna, 6, 400)"
   ]
  },
  {
   "cell_type": "code",
   "execution_count": 17,
   "metadata": {},
   "outputs": [
    {
     "data": {
      "image/png": "[encoded data removed]",
      "text/plain": [
       "<Figure size 432x288 with 1 Axes>"
      ]
     },
     "metadata": {
      "needs_background": "light"
     },
     "output_type": "display_data"
    }
   ],
   "source": [
    "plot_freq_over_time(sopa, 9, 200)"
   ]
  },
  {
   "cell_type": "code",
   "execution_count": 18,
   "metadata": {},
   "outputs": [
    {
     "data": {
      "image/png": "[encoded data removed]",
      "text/plain": [
       "<Figure size 432x288 with 1 Axes>"
      ]
     },
     "metadata": {
      "needs_background": "light"
     },
     "output_type": "display_data"
    }
   ],
   "source": [
    "plot_freq_over_time(revange, 5, 265)"
   ]
  },
  {
   "cell_type": "code",
   "execution_count": 19,
   "metadata": {},
   "outputs": [
    {
     "data": {
      "image/png": "[encoded data removed]",
      "text/plain": [
       "<Figure size 432x288 with 1 Axes>"
      ]
     },
     "metadata": {
      "needs_background": "light"
     },
     "output_type": "display_data"
    }
   ],
   "source": [
    "plot_freq_over_time(crptFile, 5, 370)"
   ]
  },
  {
   "cell_type": "code",
   "execution_count": 20,
   "metadata": {},
   "outputs": [
    {
     "data": {
      "image/png": "[encoded data removed]",
      "text/plain": [
       "<Figure size 432x288 with 1 Axes>"
      ]
     },
     "metadata": {},
     "output_type": "display_data"
    }
   ],
   "source": [
    "pie_chart(crptFile)"
   ]
  },
  {
   "cell_type": "code",
   "execution_count": 30,
   "metadata": {},
   "outputs": [
    {
     "name": "stdout",
     "output_type": "stream",
     "text": [
      "count    400.000000\n",
      "mean      12.580000\n",
      "std       12.152275\n",
      "min        0.000000\n",
      "25%        0.000000\n",
      "50%       10.500000\n",
      "75%       20.250000\n",
      "max       66.000000\n",
      "Name: Timestamp, dtype: float64\n"
     ]
    },
    {
     "data": {
      "image/png": "[encoded data removed]",
      "text/plain": [
       "<Figure size 432x288 with 1 Axes>"
      ]
     },
     "metadata": {
      "needs_background": "light"
     },
     "output_type": "display_data"
    }
   ],
   "source": [
    "stat_summary_of_command(crptFile, 17, 2000)"
   ]
  },
  {
   "cell_type": "code",
   "execution_count": 22,
   "metadata": {},
   "outputs": [
    {
     "name": "stdout",
     "output_type": "stream",
     "text": [
      "\n",
      "This comamnd 0\n",
      "all calls 168953\n",
      "this call 0\n",
      "percentage 0.0\n",
      "\n",
      "This comamnd 1\n",
      "all calls 168953\n",
      "this call 0\n",
      "percentage 0.0\n",
      "\n",
      "This comamnd 2\n",
      "all calls 168953\n",
      "this call 0\n",
      "percentage 0.0\n",
      "\n",
      "This comamnd 3\n",
      "all calls 168953\n",
      "this call 0\n",
      "percentage 0.0\n",
      "\n",
      "This comamnd 4\n",
      "all calls 168953\n",
      "this call 1\n",
      "percentage 5.918805821737406e-06\n",
      "\n",
      "This comamnd 5\n",
      "all calls 168953\n",
      "this call 20560\n",
      "percentage 0.12169064769492108\n",
      "\n",
      "This comamnd 6\n",
      "all calls 168953\n",
      "this call 15521\n",
      "percentage 0.09186578515918628\n",
      "\n",
      "This comamnd 7\n",
      "all calls 168953\n",
      "this call 0\n",
      "percentage 0.0\n",
      "\n",
      "This comamnd 8\n",
      "all calls 168953\n",
      "this call 63527\n",
      "percentage 0.3760039774375122\n",
      "\n",
      "This comamnd 9\n",
      "all calls 168953\n",
      "this call 63746\n",
      "percentage 0.3773001959124727\n",
      "\n",
      "This comamnd 10\n",
      "all calls 168953\n",
      "this call 0\n",
      "percentage 0.0\n",
      "\n",
      "This comamnd 11\n",
      "all calls 168953\n",
      "this call 5\n",
      "percentage 2.959402910868703e-05\n",
      "\n",
      "This comamnd 12\n",
      "all calls 168953\n",
      "this call 0\n",
      "percentage 0.0\n",
      "\n",
      "This comamnd 13\n",
      "all calls 168953\n",
      "this call 0\n",
      "percentage 0.0\n",
      "\n",
      "This comamnd 14\n",
      "all calls 168953\n",
      "this call 554\n",
      "percentage 0.003279018425242523\n",
      "\n",
      "This comamnd 15\n",
      "all calls 168953\n",
      "this call 0\n",
      "percentage 0.0\n",
      "\n",
      "This comamnd 16\n",
      "all calls 168953\n",
      "this call 7\n",
      "percentage 4.143164075216184e-05\n",
      "\n",
      "This comamnd 17\n",
      "all calls 168953\n",
      "this call 5032\n",
      "percentage 0.02978343089498263\n",
      "\n",
      "This comamnd 18\n",
      "all calls 168953\n",
      "this call 0\n",
      "percentage 0.0\n"
     ]
    }
   ],
   "source": [
    "show_all_percentage(crptFile)"
   ]
  },
  {
   "cell_type": "code",
   "execution_count": 23,
   "metadata": {},
   "outputs": [
    {
     "name": "stdout",
     "output_type": "stream",
     "text": [
      "\n",
      "This comamnd 0\n",
      "all calls 182600\n",
      "this call 15\n",
      "percentage 8.214676889375685e-05\n",
      "\n",
      "This comamnd 1\n",
      "all calls 182600\n",
      "this call 24\n",
      "percentage 0.00013143483023001095\n",
      "\n",
      "This comamnd 2\n",
      "all calls 182600\n",
      "this call 10\n",
      "percentage 5.47645125958379e-05\n",
      "\n",
      "This comamnd 3\n",
      "all calls 182600\n",
      "this call 22\n",
      "percentage 0.00012048192771084337\n",
      "\n",
      "This comamnd 4\n",
      "all calls 182600\n",
      "this call 20\n",
      "percentage 0.0001095290251916758\n",
      "\n",
      "This comamnd 5\n",
      "all calls 182600\n",
      "this call 61658\n",
      "percentage 0.3376670317634173\n",
      "\n",
      "This comamnd 6\n",
      "all calls 182600\n",
      "this call 41596\n",
      "percentage 0.2277984665936473\n",
      "\n",
      "This comamnd 7\n",
      "all calls 182600\n",
      "this call 0\n",
      "percentage 0.0\n",
      "\n",
      "This comamnd 8\n",
      "all calls 182600\n",
      "this call 37564\n",
      "percentage 0.20571741511500546\n",
      "\n",
      "This comamnd 9\n",
      "all calls 182600\n",
      "this call 26014\n",
      "percentage 0.1424644030668127\n",
      "\n",
      "This comamnd 10\n",
      "all calls 182600\n",
      "this call 0\n",
      "percentage 0.0\n",
      "\n",
      "This comamnd 11\n",
      "all calls 182600\n",
      "this call 18\n",
      "percentage 9.857612267250822e-05\n",
      "\n",
      "This comamnd 12\n",
      "all calls 182600\n",
      "this call 0\n",
      "percentage 0.0\n",
      "\n",
      "This comamnd 13\n",
      "all calls 182600\n",
      "this call 0\n",
      "percentage 0.0\n",
      "\n",
      "This comamnd 14\n",
      "all calls 182600\n",
      "this call 2232\n",
      "percentage 0.012223439211391018\n",
      "\n",
      "This comamnd 15\n",
      "all calls 182600\n",
      "this call 0\n",
      "percentage 0.0\n",
      "\n",
      "This comamnd 16\n",
      "all calls 182600\n",
      "this call 16\n",
      "percentage 8.762322015334064e-05\n",
      "\n",
      "This comamnd 17\n",
      "all calls 182600\n",
      "this call 12840\n",
      "percentage 0.07031763417305587\n",
      "\n",
      "This comamnd 18\n",
      "all calls 182600\n",
      "this call 571\n",
      "percentage 0.003127053669222344\n"
     ]
    }
   ],
   "source": [
    "show_all_percentage(sopa)"
   ]
  }
 ],
 "metadata": {
  "kernelspec": {
   "display_name": "Python 3",
   "language": "python",
   "name": "python3"
  },
  "language_info": {
   "codemirror_mode": {
    "name": "ipython",
    "version": 3
   },
   "file_extension": ".py",
   "mimetype": "text/x-python",
   "name": "python",
   "nbconvert_exporter": "python",
   "pygments_lexer": "ipython3",
   "version": "3.8.5"
  }
 },
 "nbformat": 4,
 "nbformat_minor": 4
}
