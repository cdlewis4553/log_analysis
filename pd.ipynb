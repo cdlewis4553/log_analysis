{
 "cells": [
  {
   "cell_type": "code",
   "execution_count": 1,
   "metadata": {},
   "outputs": [],
   "source": [
    "import numpy as np\n",
    "import pandas as pd\n",
    "import matplotlib.pyplot as plt\n",
    "import math\n",
    "import statistics"
   ]
  },
  {
   "cell_type": "code",
   "execution_count": 2,
   "metadata": {},
   "outputs": [],
   "source": [
    "def remove_acks(panda):\n",
    "    panda = panda[(panda['TCPport_dst'] == 445) | (panda['TCPport_dst'] == 139)]\n",
    "    return panda "
   ]
  },
  {
   "cell_type": "code",
   "execution_count": 3,
   "metadata": {},
   "outputs": [],
   "source": [
    "def remove_treeID(panda, treeID):\n",
    "    panda = panda[panda['TreeID'] != treeID]\n",
    "    return panda"
   ]
  },
  {
   "cell_type": "code",
   "execution_count": 4,
   "metadata": {},
   "outputs": [],
   "source": [
    "def remove_SessionID(panda, SessionID):\n",
    "    panda = panda[panda['SessionID'] != SessionID]\n",
    "    return panda"
   ]
  },
  {
   "cell_type": "code",
   "execution_count": 5,
   "metadata": {},
   "outputs": [],
   "source": [
    "def read_from_txt(file_name):\n",
    "    df = pd.read_csv(file_name, encoding = \"ISO-8859-1\",error_bad_lines=False , sep=\" \",index_col=False)\n",
    "    return df"
   ]
  },
  {
   "cell_type": "code",
   "execution_count": 6,
   "metadata": {},
   "outputs": [],
   "source": [
    "def create_csv(panda, file_name):\n",
    "    panda.to_csv(file_name, index=False)"
   ]
  },
  {
   "cell_type": "code",
   "execution_count": 7,
   "metadata": {},
   "outputs": [],
   "source": [
    "def plot_freq_over_time(panda, SMBcommand, num_bins):\n",
    "    plt.hist(x=panda.loc[panda['SMBcommand'] == SMBcommand].Timestamp.astype(float) , bins=num_bins)\n",
    "    plt.show()"
   ]
  },
  {
   "cell_type": "code",
   "execution_count": 8,
   "metadata": {},
   "outputs": [],
   "source": [
    "def pie_chart(panda):\n",
    "    labels = '4', '5', '6', '7', '8','9', '10', '11', '12','13','14', '15', '16', '17'\n",
    "    sizes = [len(panda.loc[panda['SMBcommand'] == 4]),\n",
    "             len(panda.loc[panda['SMBcommand'] == 5]),\n",
    "             len(panda.loc[panda['SMBcommand'] == 6]),\n",
    "             len(panda.loc[panda['SMBcommand'] == 7]),\n",
    "             len(panda.loc[panda['SMBcommand'] == 8]),\n",
    "             len(panda.loc[panda['SMBcommand'] == 9]),\n",
    "             len(panda.loc[panda['SMBcommand'] == 10]),\n",
    "             len(panda.loc[panda['SMBcommand'] == 11]),\n",
    "             len(panda.loc[panda['SMBcommand'] == 12]),\n",
    "             len(panda.loc[panda['SMBcommand'] == 13]),\n",
    "             len(panda.loc[panda['SMBcommand'] == 14]),\n",
    "             len(panda.loc[panda['SMBcommand'] == 15]),\n",
    "             len(panda.loc[panda['SMBcommand'] == 16]),\n",
    "             len(panda.loc[panda['SMBcommand'] == 17])] \n",
    "\n",
    "    fig1, ax1 = plt.subplots()\n",
    "    ax1.pie(sizes, labels=labels, autopct='%1.1f%%',\n",
    "            shadow=True, startangle=90)\n",
    "    ax1.axis('equal')  \n",
    "\n",
    "    plt.show()"
   ]
  },
  {
   "cell_type": "code",
   "execution_count": 9,
   "metadata": {},
   "outputs": [],
   "source": [
    "def stat_summary_of_command(panda, SMBcommand, final):\n",
    "    interval_range = pd.interval_range(start=0, freq=5, end=final, closed='left')\n",
    "    bucket= panda.loc[panda['SMBcommand'] == SMBcommand]\n",
    "    bucket = pd.cut(bucket['Timestamp'].astype(float), bins=interval_range)\n",
    "    print(bucket.value_counts().describe())\n",
    "    fig1, ax1 = plt.subplots()\n",
    "    ax1.set_title(\"Frequncy of call \"+ str(SMBcommand))\n",
    "    ax1.boxplot(bucket.value_counts())\n"
   ]
  },
  {
   "cell_type": "code",
   "execution_count": 10,
   "metadata": {},
   "outputs": [],
   "source": [
    "def percentage_of_call(panda, SMBcommand):\n",
    "    total = len(panda)\n",
    "    SMB_total= len(panda.loc[panda['SMBcommand'] == SMBcommand])\n",
    "    print(\"\\nThis comamnd \"+ str(SMBcommand))\n",
    "    print(\"all calls \"+ str(total))\n",
    "    print(\"this call \" +str(SMB_total))\n",
    "    print(\"percentage \"+str(SMB_total/total))"
   ]
  },
  {
   "cell_type": "code",
   "execution_count": 11,
   "metadata": {},
   "outputs": [],
   "source": [
    "def show_all_percentage(panda):\n",
    "    for x in range(0, 19):\n",
    "        percentage_of_call(panda, x)"
   ]
  },
  {
   "cell_type": "code",
   "execution_count": 12,
   "metadata": {},
   "outputs": [],
   "source": [
    "def return_five_max(panda, base):\n",
    "    column = panda[\"Timestamp\"].astype(float)\n",
    "    a_number=column.max()\n",
    "    nearest_multiple = base * math.ceil(a_number/base)\n",
    "    return nearest_multiple"
   ]
  },
  {
   "cell_type": "code",
   "execution_count": 13,
   "metadata": {},
   "outputs": [],
   "source": [
    "def show_analysis(panda, smb_num):\n",
    "    final_time = return_five_max(panda,5)\n",
    "    plot_freq_over_time(panda, smb_num, int(final_time/5))\n",
    "    pie_chart(panda)\n",
    "    stat_summary_of_command(panda, smb_num, final_time)"
   ]
  },
  {
   "cell_type": "code",
   "execution_count": 14,
   "metadata": {},
   "outputs": [],
   "source": [
    "def number_of_file(panda):\n",
    "    df = panda.groupby('FileID')['Timestamp'].nunique()\n",
    "    print (len(df))"
   ]
  },
  {
   "cell_type": "code",
   "execution_count": 52,
   "metadata": {},
   "outputs": [],
   "source": [
    "def  number_of_files_for_many(p1, p2, p3, p4, p5, p6, p7, p8, p9, p10):\n",
    "    print(\"\\nlog 1\")\n",
    "    number_of_file(p1)\n",
    "    print(\"\\nlog 2\")\n",
    "    number_of_file(p2)\n",
    "    print(\"\\nlog 3\")\n",
    "    number_of_file(p3)\n",
    "    print(\"\\nlog 4\")\n",
    "    number_of_file(p4)\n",
    "    print(\"\\nlog 5\")\n",
    "    number_of_file(p5)\n",
    "    print(\"\\nlog 6\")\n",
    "    number_of_file(p6)\n",
    "    print(\"\\nlog 7\")\n",
    "    number_of_file(p7)\n",
    "    print(\"\\nlog 8\")\n",
    "    number_of_file(p8)\n",
    "    print(\"\\nlog 9\")\n",
    "    number_of_file(p9)\n",
    "    print(\"\\nlog 10\")\n",
    "    number_of_file(p10)"
   ]
  },
  {
   "cell_type": "code",
   "execution_count": 16,
   "metadata": {},
   "outputs": [],
   "source": [
    "def Combined_analysis(p1, p2, p3, p4, p5, p6, p7, p8, p9, p10, SMBcommand): \n",
    "    frames = [p1, p2, p3, p4 ,p5, p6, p7, p8, p9, p10]\n",
    "    Combined = pd.concat(frames)\n",
    "    \n",
    "    freq = 60\n",
    "    num_max =return_five_max(Combined,freq)\n",
    "    \n",
    "    pie_chart(Combined)\n",
    "    \n",
    "    #plot_freq_over_time(Combined, SMBcommand, int(num_max/freq))\n",
    "    x=Combined.loc[Combined['SMBcommand'] == SMBcommand].Timestamp.astype(float)\n",
    "    plt.hist(x , bins=int(num_max/freq), weights=np.ones_like(x)/10)\n",
    "    plt.show()\n",
    "    \n",
    "    # do stats on the Combined data\n",
    "    interval_range = pd.interval_range(start=0, freq=freq, end=num_max, closed='left')\n",
    "    bucket= Combined.loc[Combined['SMBcommand'] == SMBcommand]\n",
    "    bucket = pd.cut(bucket['Timestamp'].astype(float), bins=interval_range)\n",
    "    \n",
    "    freq1 = p1.loc[p1['SMBcommand'] == SMBcommand]\n",
    "    freq2 = p2.loc[p2['SMBcommand'] == SMBcommand]\n",
    "    freq3 = p3.loc[p3['SMBcommand'] == SMBcommand]\n",
    "    freq4 = p4.loc[p4['SMBcommand'] == SMBcommand]\n",
    "    freq5 = p5.loc[p5['SMBcommand'] == SMBcommand]\n",
    "    freq6 = p6.loc[p6['SMBcommand'] == SMBcommand]\n",
    "    freq7 = p7.loc[p7['SMBcommand'] == SMBcommand]\n",
    "    freq8 = p8.loc[p8['SMBcommand'] == SMBcommand]\n",
    "    freq9 = p9.loc[p9['SMBcommand'] == SMBcommand]\n",
    "    freq10 = p10.loc[p10['SMBcommand'] == SMBcommand]\n",
    "    \n",
    "    freq1 = pd.cut(freq1['Timestamp'].astype(float), bins=interval_range)\n",
    "    freq2 = pd.cut(freq2['Timestamp'].astype(float), bins=interval_range)\n",
    "    freq3 = pd.cut(freq3['Timestamp'].astype(float), bins=interval_range)\n",
    "    freq4 = pd.cut(freq4['Timestamp'].astype(float), bins=interval_range)\n",
    "    freq5 = pd.cut(freq5['Timestamp'].astype(float), bins=interval_range)\n",
    "    freq6 = pd.cut(freq6['Timestamp'].astype(float), bins=interval_range)\n",
    "    freq7 = pd.cut(freq7['Timestamp'].astype(float), bins=interval_range)\n",
    "    freq8 = pd.cut(freq8['Timestamp'].astype(float), bins=interval_range)\n",
    "    freq9 = pd.cut(freq9['Timestamp'].astype(float), bins=interval_range)\n",
    "    freq10 = pd.cut(freq10['Timestamp'].astype(float), bins=interval_range)\n",
    "    \n",
    "    freq1 = freq1.value_counts()\n",
    "    freq2 = freq2.value_counts()\n",
    "    freq3 = freq3.value_counts()\n",
    "    freq4 = freq4.value_counts()\n",
    "    freq5 = freq5.value_counts()\n",
    "    freq6 = freq6.value_counts()\n",
    "    freq7 = freq7.value_counts()\n",
    "    freq8 = freq8.value_counts()\n",
    "    freq9 = freq9.value_counts()\n",
    "    freq10 = freq10.value_counts()\n",
    "    \n",
    "    all_freq = freq10\n",
    "    \n",
    "    for i in interval_range:\n",
    "        data = [freq1[i], freq2[i], freq3[i], freq4[i], freq5[i],\n",
    "                freq6[i], freq7[i], freq8[i], freq9[i], freq10[i]]\n",
    "        all_freq[i] = statistics.median(data)\n",
    "        \n",
    "    #print(all_freq)\n",
    "    #plt.hist(x= freq9,y=freq9 )\n",
    "    #plt.show()\n",
    "    #hist = all_freq.hist()\n",
    "    \n",
    "    print(all_freq.describe())\n",
    "    fig1, ax1 = plt.subplots()\n",
    "    ax1.set_title(\"Frequncy of call \"+ str(SMBcommand))\n",
    "    ax1.boxplot(all_freq)"
   ]
  },
  {
   "cell_type": "code",
   "execution_count": 17,
   "metadata": {},
   "outputs": [],
   "source": [
    "def Combined_analysis_boxblots(p1, p2, p3, p4, p5, p6, p7, p8, p9, p10, SMBcommand):\n",
    "    freq1 = p1.loc[p1['SMBcommand'] == SMBcommand]\n",
    "    freq2 = p2.loc[p2['SMBcommand'] == SMBcommand]\n",
    "    freq3 = p3.loc[p3['SMBcommand'] == SMBcommand]\n",
    "    freq4 = p4.loc[p4['SMBcommand'] == SMBcommand]\n",
    "    freq5 = p5.loc[p5['SMBcommand'] == SMBcommand]\n",
    "    freq6 = p6.loc[p6['SMBcommand'] == SMBcommand]\n",
    "    freq7 = p7.loc[p7['SMBcommand'] == SMBcommand]\n",
    "    freq8 = p8.loc[p8['SMBcommand'] == SMBcommand]\n",
    "    freq9 = p9.loc[p9['SMBcommand'] == SMBcommand]\n",
    "    freq10 = p10.loc[p10['SMBcommand'] == SMBcommand]\n",
    "    \n",
    "    freq=5\n",
    "    interval_range = pd.interval_range(start=0, freq=freq, end=return_five_max(freq1,freq), closed='left')\n",
    "    freq1 = pd.cut(freq1['Timestamp'].astype(float), bins=interval_range)\n",
    "    \n",
    "    interval_range = pd.interval_range(start=0, freq=freq, end=return_five_max(freq2,freq), closed='left')\n",
    "    freq2 = pd.cut(freq2['Timestamp'].astype(float), bins=interval_range)\n",
    "    \n",
    "    interval_range = pd.interval_range(start=0, freq=freq, end=return_five_max(freq3,freq), closed='left')\n",
    "    freq3 = pd.cut(freq3['Timestamp'].astype(float), bins=interval_range)\n",
    "                                       \n",
    "    interval_range = pd.interval_range(start=0, freq=freq, end=return_five_max(freq4,freq), closed='left')\n",
    "    freq4 = pd.cut(freq4['Timestamp'].astype(float), bins=interval_range)\n",
    "                                       \n",
    "    interval_range = pd.interval_range(start=0, freq=freq, end=return_five_max(freq5,freq), closed='left')\n",
    "    freq5 = pd.cut(freq5['Timestamp'].astype(float), bins=interval_range)\n",
    "                                       \n",
    "    interval_range = pd.interval_range(start=0, freq=freq, end=return_five_max(freq6,freq), closed='left')\n",
    "    freq6 = pd.cut(freq6['Timestamp'].astype(float), bins=interval_range)\n",
    "                                       \n",
    "    interval_range = pd.interval_range(start=0, freq=freq, end=return_five_max(freq7,freq), closed='left')\n",
    "    freq7 = pd.cut(freq7['Timestamp'].astype(float), bins=interval_range)\n",
    "                                       \n",
    "    interval_range = pd.interval_range(start=0, freq=freq, end=return_five_max(freq8,freq), closed='left')\n",
    "    freq8 = pd.cut(freq8['Timestamp'].astype(float), bins=interval_range)\n",
    "                                       \n",
    "    interval_range = pd.interval_range(start=0, freq=freq, end=return_five_max(freq9,freq), closed='left')\n",
    "    freq9 = pd.cut(freq9['Timestamp'].astype(float), bins=interval_range)\n",
    "                                       \n",
    "    interval_range = pd.interval_range(start=0, freq=freq, end=return_five_max(freq10,freq), closed='left')\n",
    "    freq10 = pd.cut(freq10['Timestamp'].astype(float), bins=interval_range)\n",
    "    \n",
    "    freq1 = freq1.value_counts()\n",
    "    freq2 = freq2.value_counts()\n",
    "    freq3 = freq3.value_counts()\n",
    "    freq4 = freq4.value_counts()\n",
    "    freq5 = freq5.value_counts()\n",
    "    freq6 = freq6.value_counts()\n",
    "    freq7 = freq7.value_counts()\n",
    "    freq8 = freq8.value_counts()\n",
    "    freq9 = freq9.value_counts()\n",
    "    freq10 = freq10.value_counts()\n",
    "    \n",
    "    freq1 = freq1[freq1.between(freq1.quantile(.05), freq1.quantile(.95))]\n",
    "    freq2 = freq2[freq2.between(freq2.quantile(.05), freq2.quantile(.95))]\n",
    "    freq3 = freq3[freq3.between(freq3.quantile(.05), freq3.quantile(.95))]\n",
    "    freq4 = freq4[freq4.between(freq4.quantile(.05), freq5.quantile(.95))]\n",
    "    freq5 = freq5[freq5.between(freq5.quantile(.05), freq5.quantile(.95))]\n",
    "    freq6 = freq6[freq6.between(freq6.quantile(.05), freq6.quantile(.95))]\n",
    "    freq7 = freq7[freq7.between(freq7.quantile(.05), freq7.quantile(.95))]\n",
    "    freq8 = freq8[freq8.between(freq8.quantile(.05), freq8.quantile(.95))]\n",
    "    freq9 = freq9[freq9.between(freq9.quantile(.05), freq9.quantile(.95))]\n",
    "    freq10 = freq10[freq10.between(freq10.quantile(.05), freq10.quantile(.95))]\n",
    "    \n",
    "    data =[freq1, freq2, freq3, freq4, freq5, freq6, freq7, freq7, freq9, freq10]\n",
    "    \n",
    "    fig1, ax1 = plt.subplots()\n",
    "    ax1.set_title(\"Frequncy of call \"+ str(SMBcommand))\n",
    "    ax1.boxplot(data)"
   ]
  },
  {
   "cell_type": "code",
   "execution_count": 18,
   "metadata": {},
   "outputs": [],
   "source": [
    "def Combined_analysis_by_percentage(p1, p2, p3, p4, p5, p6, p7, p8, p9, p10, SMBcommand):\n",
    "    per = 100\n",
    "    freq1 = p1.loc[p1['SMBcommand'] == SMBcommand]\n",
    "    freq2 = p2.loc[p2['SMBcommand'] == SMBcommand]\n",
    "    freq3 = p3.loc[p3['SMBcommand'] == SMBcommand]\n",
    "    freq4 = p4.loc[p4['SMBcommand'] == SMBcommand]\n",
    "    freq5 = p5.loc[p5['SMBcommand'] == SMBcommand]\n",
    "    freq6 = p6.loc[p6['SMBcommand'] == SMBcommand]\n",
    "    freq7 = p7.loc[p7['SMBcommand'] == SMBcommand]\n",
    "    freq8 = p8.loc[p8['SMBcommand'] == SMBcommand]\n",
    "    freq9 = p9.loc[p9['SMBcommand'] == SMBcommand]\n",
    "    freq10 = p10.loc[p10['SMBcommand'] == SMBcommand]\n",
    "    \n",
    "    freq1 = pd.cut(freq1['Timestamp'].astype(float), bins=per)\n",
    "    freq2 = pd.cut(freq2['Timestamp'].astype(float), bins=per)\n",
    "    freq3 = pd.cut(freq3['Timestamp'].astype(float), bins=per)\n",
    "    freq4 = pd.cut(freq4['Timestamp'].astype(float), bins=per)\n",
    "    freq5 = pd.cut(freq5['Timestamp'].astype(float), bins=per)\n",
    "    freq6 = pd.cut(freq6['Timestamp'].astype(float), bins=per)\n",
    "    freq7 = pd.cut(freq7['Timestamp'].astype(float), bins=per)\n",
    "    freq8 = pd.cut(freq8['Timestamp'].astype(float), bins=per)\n",
    "    freq9 = pd.cut(freq9['Timestamp'].astype(float), bins=per)\n",
    "    freq10 = pd.cut(freq10['Timestamp'].astype(float), bins=per)\n",
    "    \n",
    "    freq1 = freq1.value_counts()\n",
    "    freq2 = freq2.value_counts()\n",
    "    freq3 = freq3.value_counts()\n",
    "    freq4 = freq4.value_counts()\n",
    "    freq5 = freq5.value_counts()\n",
    "    freq6 = freq6.value_counts()\n",
    "    freq7 = freq7.value_counts()\n",
    "    freq8 = freq8.value_counts()\n",
    "    freq9 = freq9.value_counts()\n",
    "    freq10 = freq10.value_counts()\n",
    "    \n",
    "    all_freq = freq10\n",
    "    \n",
    "    for i in range(1, per):\n",
    "        data = [freq1[i], freq2[i], freq3[i], freq4[i], freq5[i],\n",
    "                freq6[i], freq7[i], freq8[i], freq9[i], freq10[i]]\n",
    "        all_freq[i] = statistics.median(data)\n",
    "    \n",
    "    print(all_freq.describe())\n",
    "    fig1, ax1 = plt.subplots()\n",
    "    ax1.set_title(\"Frequncy of call \"+ str(SMBcommand))\n",
    "    ax1.boxplot(all_freq)"
   ]
  },
  {
   "cell_type": "code",
   "execution_count": 19,
   "metadata": {},
   "outputs": [],
   "source": [
    "sopa = read_from_txt(\"full_io_files/Spora_17052017.txt\")\n",
    "sopa = remove_acks(sopa)\n",
    "sopa = remove_treeID(sopa, 0)\n",
    "sopa = remove_SessionID(sopa, 0)\n",
    "sopa = remove_SessionID(sopa,4398046511145)\n",
    "create_csv(sopa, \"saved_csv/Spora_17052017.csv\")"
   ]
  },
  {
   "cell_type": "code",
   "execution_count": 20,
   "metadata": {},
   "outputs": [],
   "source": [
    "wanna = read_from_txt(\"full_io_files/wannaCry_16052017.txt\")\n",
    "wanna = remove_acks(wanna)\n",
    "wanna = remove_treeID(wanna, 0)\n",
    "wanna = remove_SessionID(wanna, 0)\n",
    "create_csv(wanna, \"saved_csv/wannaCry_16052017.csv\")"
   ]
  },
  {
   "cell_type": "code",
   "execution_count": 21,
   "metadata": {},
   "outputs": [],
   "source": [
    "revange =read_from_txt(\"full_io_files/revenge_15032018.txt\")\n",
    "revange = remove_acks(revange)\n",
    "revange = remove_treeID(revange, 0)\n",
    "revange = remove_SessionID(revange, 0)\n",
    "revange = remove_SessionID(revange, 4398046511193)\n",
    "create_csv(revange, \"saved_csv/revenge_15032018.csv\")"
   ]
  },
  {
   "cell_type": "code",
   "execution_count": 22,
   "metadata": {},
   "outputs": [],
   "source": [
    "crptFile =read_from_txt(\"full_io_files/CryptFile2_10112016.txt\")\n",
    "crptFile = remove_acks(crptFile)\n",
    "crptFile = remove_treeID(crptFile, 0)\n",
    "crptFile = remove_SessionID(crptFile, 0)\n",
    "create_csv(crptFile, \"saved_csv/CryptFile2_10112016.csv\")"
   ]
  },
  {
   "cell_type": "code",
   "execution_count": 23,
   "metadata": {},
   "outputs": [],
   "source": [
    "GandCrab = read_from_txt(\"full_io_files/GandCrab_22052019.txt\")\n",
    "GandCrab = remove_acks(GandCrab)\n",
    "GandCrab = remove_treeID(GandCrab, 0)\n",
    "GandCrab = remove_SessionID(GandCrab,4398046511145)\n",
    "GandCrab = remove_SessionID(GandCrab, 0)\n",
    "create_csv(GandCrab, \"saved_csv/GandCrab_22052019.csv\")"
   ]
  },
  {
   "cell_type": "code",
   "execution_count": 24,
   "metadata": {},
   "outputs": [],
   "source": [
    "GlobeImposter = read_from_txt(\"full_io_files/GlobeImposter_06052017.txt\")\n",
    "GlobeImposter = remove_acks(GlobeImposter)\n",
    "GlobeImposter = remove_treeID(GlobeImposter, 0)\n",
    "GlobeImposter = remove_SessionID(GlobeImposter,4398046511137)\n",
    "GlobeImposter = remove_SessionID(GlobeImposter,4398046511141)\n",
    "GlobeImposter = remove_SessionID(GlobeImposter, 0)\n",
    "create_csv(GlobeImposter, \"saved_csv/GlobeImposter_06052017.csv\")"
   ]
  },
  {
   "cell_type": "code",
   "execution_count": 25,
   "metadata": {},
   "outputs": [],
   "source": [
    "Jaff = read_from_txt(\"full_io_files/Jaff_13062017.txt\")\n",
    "Jaff = remove_acks(Jaff)\n",
    "Jaff = remove_treeID(Jaff, 0)\n",
    "Jaff = remove_SessionID(Jaff,4398046511197)\n",
    "Jaff = remove_SessionID(Jaff,4398046511193)\n",
    "Jaff = remove_SessionID(Jaff,4398046511189)\n",
    "Jaff = remove_SessionID(Jaff,4398046511185)\n",
    "Jaff = remove_SessionID(Jaff,4398046511181)\n",
    "Jaff = remove_SessionID(Jaff, 0)\n",
    "create_csv(Jaff, \"saved_csv/Jaff_13062017.csv\")"
   ]
  },
  {
   "cell_type": "code",
   "execution_count": 26,
   "metadata": {},
   "outputs": [
    {
     "name": "stderr",
     "output_type": "stream",
     "text": [
      "C:\\Users\\christopher lewis\\anaconda3\\lib\\site-packages\\IPython\\core\\interactiveshell.py:3338: DtypeWarning: Columns (0,3,7) have mixed types.Specify dtype option on import or set low_memory=False.\n",
      "  if (await self.run_code(code, result,  async_=asy)):\n"
     ]
    }
   ],
   "source": [
    "Locky = read_from_txt(\"full_io_files/Locky_27042016.txt\")\n",
    "Locky = remove_acks(Locky)\n",
    "Locky = remove_treeID(Locky, 0)\n",
    "Locky = remove_SessionID(Locky,4398046511113)\n",
    "Locky = remove_SessionID(Locky, 0)\n",
    "create_csv(Locky, \"saved_csv/Locky_27042016.csv\")"
   ]
  },
  {
   "cell_type": "code",
   "execution_count": 27,
   "metadata": {},
   "outputs": [],
   "source": [
    "maktub = read_from_txt(\"full_io_files/maktub_12042018.txt\")\n",
    "maktub = remove_acks(maktub)\n",
    "maktub = remove_treeID(maktub, 0)\n",
    "maktub = remove_SessionID(maktub, 0)\n",
    "create_csv(maktub, \"saved_csv/maktub_12042018.csv\")"
   ]
  },
  {
   "cell_type": "code",
   "execution_count": 28,
   "metadata": {},
   "outputs": [],
   "source": [
    "Maze = read_from_txt(\"full_io_files/Maze_16122019.txt\")\n",
    "Maze = remove_acks(Maze)\n",
    "Maze = remove_treeID(Maze, 0)\n",
    "Maze = remove_SessionID(Maze, 0)\n",
    "create_csv(Maze, \"saved_csv/Maze_16122019.csv\")"
   ]
  },
  {
   "cell_type": "code",
   "execution_count": 29,
   "metadata": {},
   "outputs": [],
   "source": [
    "Mole = read_from_txt(\"full_io_files/Mole_26052018.txt\")\n",
    "Mole = remove_acks(Mole)\n",
    "Mole = remove_treeID(Mole, 0)\n",
    "Mole = remove_SessionID(Mole, 0)\n",
    "Mole = remove_SessionID(Mole, 4398046511113)\n",
    "Mole = remove_SessionID(Mole, 4398046511137)\n",
    "Mole = remove_SessionID(Mole, 4398046511141)\n",
    "Mole = remove_SessionID(Mole, 4398046511145)\n",
    "Mole = remove_SessionID(Mole, 4398046511149)\n",
    "Mole = remove_SessionID(Mole, 4398046511153)\n",
    "create_csv(Mole, \"saved_csv/Mole_26052018.csv\")"
   ]
  },
  {
   "cell_type": "code",
   "execution_count": 30,
   "metadata": {},
   "outputs": [],
   "source": [
    "MRCR = read_from_txt(\"full_io_files/MRCR_15012017.txt\")\n",
    "MRCR = remove_acks(MRCR)\n",
    "MRCR = remove_treeID(MRCR, 0)\n",
    "MRCR = remove_SessionID(MRCR, 0)\n",
    "create_csv(MRCR, \"saved_csv/MRCR_15012017.csv\")"
   ]
  },
  {
   "cell_type": "code",
   "execution_count": 31,
   "metadata": {},
   "outputs": [],
   "source": [
    "RansomX = read_from_txt(\"full_io_files/RansomX_28062020.txt\")\n",
    "RansomX = remove_acks(RansomX)\n",
    "RansomX = remove_treeID(RansomX, 0)\n",
    "RansomX = remove_SessionID(RansomX, 0)\n",
    "create_csv(RansomX, \"saved_csv/RansomX_28062020.csv\")"
   ]
  },
  {
   "cell_type": "code",
   "execution_count": 32,
   "metadata": {},
   "outputs": [],
   "source": [
    "Razi = read_from_txt(\"full_io_files/Razi_15012021.txt\")\n",
    "Razi = remove_acks(Razi)\n",
    "Razi = remove_treeID(Razi, 0)\n",
    "Razi = remove_SessionID(Razi, 0)\n",
    "create_csv(Razi, \"saved_csv/Razi_15012021.csv\")"
   ]
  },
  {
   "cell_type": "code",
   "execution_count": 33,
   "metadata": {},
   "outputs": [
    {
     "name": "stderr",
     "output_type": "stream",
     "text": [
      "b'Skipping line 103773: expected 20 fields, saw 21\\n'\n",
      "C:\\Users\\christopher lewis\\anaconda3\\lib\\site-packages\\IPython\\core\\interactiveshell.py:3338: DtypeWarning: Columns (0,3,7) have mixed types.Specify dtype option on import or set low_memory=False.\n",
      "  if (await self.run_code(code, result,  async_=asy)):\n"
     ]
    }
   ],
   "source": [
    "Ryuk = read_from_txt(\"full_io_files/Ryuk_16042019.txt\")\n",
    "Ryuk = remove_acks(Ryuk)\n",
    "Ryuk = remove_treeID(Ryuk, 0)\n",
    "Ryuk = remove_SessionID(Ryuk, 0)\n",
    "Ryuk = remove_SessionID(Ryuk, 107374182401)\n",
    "create_csv(Ryuk, \"saved_csv/Ryuk_16042019.csv\")"
   ]
  },
  {
   "cell_type": "code",
   "execution_count": 34,
   "metadata": {},
   "outputs": [],
   "source": [
    "Sage = read_from_txt(\"full_io_files/Sage_23012018.txt\")\n",
    "Sage = remove_acks(Sage)\n",
    "Sage = remove_treeID(Sage, 0)\n",
    "Sage = remove_SessionID(Sage, 0)\n",
    "Sage = remove_SessionID(Sage, 4398046511145)\n",
    "create_csv(Sage, \"saved_csv/Sage_23012018.csv\")"
   ]
  },
  {
   "cell_type": "code",
   "execution_count": 35,
   "metadata": {},
   "outputs": [],
   "source": [
    "Scarab = read_from_txt(\"full_io_files/Scarab_18102019.txt\")\n",
    "Scarab = remove_acks(Scarab)\n",
    "Scarab = remove_treeID(Scarab, 0)\n",
    "Scarab = remove_SessionID(Scarab, 0)\n",
    "create_csv(Scarab, \"saved_csv/Scarab_18102019.csv\")"
   ]
  },
  {
   "cell_type": "code",
   "execution_count": 36,
   "metadata": {},
   "outputs": [],
   "source": [
    "Shade = read_from_txt(\"full_io_files/Shade_15112019.txt\")\n",
    "Shade = remove_acks(Shade)\n",
    "Shade = remove_treeID(Shade, 0)\n",
    "Shade = remove_SessionID(Shade, 0)\n",
    "create_csv(Shade, \"saved_csv/Shade_15112019.csv\")"
   ]
  },
  {
   "cell_type": "code",
   "execution_count": 37,
   "metadata": {},
   "outputs": [
    {
     "name": "stderr",
     "output_type": "stream",
     "text": [
      "b'Skipping line 107470: expected 20 fields, saw 21\\n'\n",
      "b'Skipping line 151990: expected 20 fields, saw 21\\n'\n",
      "b'Skipping line 164846: expected 20 fields, saw 21\\nSkipping line 179063: expected 20 fields, saw 21\\nSkipping line 194210: expected 20 fields, saw 21\\n'\n",
      "b'Skipping line 209724: expected 20 fields, saw 21\\nSkipping line 225334: expected 20 fields, saw 21\\n'\n",
      "b'Skipping line 238326: expected 20 fields, saw 21\\n'\n",
      "C:\\Users\\christopher lewis\\anaconda3\\lib\\site-packages\\IPython\\core\\interactiveshell.py:3338: DtypeWarning: Columns (0,3,4,7) have mixed types.Specify dtype option on import or set low_memory=False.\n",
      "  if (await self.run_code(code, result,  async_=asy)):\n"
     ]
    }
   ],
   "source": [
    "Shaofao = read_from_txt(\"full_io_files/Shaofao_20082020.txt\")\n",
    "Shaofao = remove_acks(Shaofao)\n",
    "Shaofao = remove_treeID(Shaofao, 0)\n",
    "Shaofao = remove_SessionID(Shaofao, 0)\n",
    "create_csv(Shaofao, \"saved_csv/Shaofao_20082020.csv\")"
   ]
  },
  {
   "cell_type": "code",
   "execution_count": 38,
   "metadata": {},
   "outputs": [
    {
     "name": "stderr",
     "output_type": "stream",
     "text": [
      "b'Skipping line 418952: expected 20 fields, saw 21\\n'\n"
     ]
    }
   ],
   "source": [
    "Sodinokibi = read_from_txt(\"full_io_files/Sodinokibi_24032020.txt\")\n",
    "Sodinokibi = remove_acks(Sodinokibi)\n",
    "Sodinokibi = remove_treeID(Sodinokibi, 0)\n",
    "Sodinokibi = remove_SessionID(Sodinokibi, 0)\n",
    "create_csv(Sodinokibi, \"saved_csv/Sodinokibi_24032020.csv\")"
   ]
  },
  {
   "cell_type": "code",
   "execution_count": 39,
   "metadata": {},
   "outputs": [
    {
     "name": "stderr",
     "output_type": "stream",
     "text": [
      "b'Skipping line 4950: expected 20 fields, saw 21\\nSkipping line 12131: expected 20 fields, saw 21\\nSkipping line 14940: expected 20 fields, saw 21\\nSkipping line 18318: expected 20 fields, saw 21\\nSkipping line 20803: expected 20 fields, saw 22\\n'\n",
      "b'Skipping line 115747: expected 20 fields, saw 21\\n'\n",
      "b'Skipping line 134579: expected 20 fields, saw 21\\n'\n",
      "C:\\Users\\christopher lewis\\anaconda3\\lib\\site-packages\\IPython\\core\\interactiveshell.py:3338: DtypeWarning: Columns (0,3,4,7) have mixed types.Specify dtype option on import or set low_memory=False.\n",
      "  if (await self.run_code(code, result,  async_=asy)):\n"
     ]
    }
   ],
   "source": [
    "Stop = read_from_txt(\"full_io_files/Stop_01022020.txt\")\n",
    "Stop = remove_acks(Stop)\n",
    "Stop = remove_treeID(Stop, 0)\n",
    "Stop = remove_SessionID(Stop, 0)\n",
    "create_csv(Stop, \"saved_csv/Stop_01022020.csv\")"
   ]
  },
  {
   "cell_type": "code",
   "execution_count": 40,
   "metadata": {},
   "outputs": [],
   "source": [
    "TeslaCrypt = read_from_txt(\"full_io_files/TeslaCrypt_28122015.txt\")\n",
    "TeslaCrypt = remove_acks(TeslaCrypt)\n",
    "TeslaCrypt = remove_treeID(TeslaCrypt, 0)\n",
    "TeslaCrypt = remove_SessionID(TeslaCrypt, 0)\n",
    "create_csv(TeslaCrypt, \"saved_csv/TeslaCrypt_28122015.csv\")"
   ]
  },
  {
   "cell_type": "code",
   "execution_count": 41,
   "metadata": {},
   "outputs": [],
   "source": [
    "Virlock = read_from_txt(\"full_io_files/Virlock_16022017.txt\")\n",
    "Virlock = remove_acks(Virlock)\n",
    "Virlock = remove_treeID(Virlock, 0)\n",
    "Virlock = remove_SessionID(Virlock, 0)\n",
    "create_csv(Virlock, \"saved_csv/Virlock_16022017.csv\")"
   ]
  },
  {
   "cell_type": "code",
   "execution_count": 42,
   "metadata": {},
   "outputs": [
    {
     "name": "stderr",
     "output_type": "stream",
     "text": [
      "b'Skipping line 294680: expected 20 fields, saw 22\\n'\n",
      "C:\\Users\\christopher lewis\\anaconda3\\lib\\site-packages\\IPython\\core\\interactiveshell.py:3338: DtypeWarning: Columns (0,3,7) have mixed types.Specify dtype option on import or set low_memory=False.\n",
      "  if (await self.run_code(code, result,  async_=asy)):\n"
     ]
    }
   ],
   "source": [
    "Zeus = read_from_txt(\"full_io_files/Zeus_31102017.txt\")\n",
    "Zeus = remove_acks(Zeus)\n",
    "Zeus = remove_treeID(Zeus, 0)\n",
    "Zeus = remove_SessionID(Zeus, 0)\n",
    "create_csv(Zeus, \"saved_csv/Zeus_31102017.csv\")"
   ]
  },
  {
   "cell_type": "code",
   "execution_count": 43,
   "metadata": {},
   "outputs": [
    {
     "name": "stderr",
     "output_type": "stream",
     "text": [
      "b'Skipping line 57938: expected 20 fields, saw 21\\nSkipping line 64375: expected 20 fields, saw 21\\n'\n",
      "b'Skipping line 86598: expected 20 fields, saw 21\\nSkipping line 91860: expected 20 fields, saw 24\\nSkipping line 91861: expected 20 fields, saw 21\\n'\n",
      "b'Skipping line 102799: expected 20 fields, saw 22\\nSkipping line 114956: expected 20 fields, saw 21\\n'\n",
      "b'Skipping line 162736: expected 20 fields, saw 21\\n'\n",
      "b'Skipping line 301966: expected 20 fields, saw 21\\n'\n",
      "b'Skipping line 338505: expected 20 fields, saw 21\\nSkipping line 339352: expected 20 fields, saw 21\\n'\n",
      "C:\\Users\\christopher lewis\\anaconda3\\lib\\site-packages\\IPython\\core\\interactiveshell.py:3338: DtypeWarning: Columns (0,3,4,7) have mixed types.Specify dtype option on import or set low_memory=False.\n",
      "  if (await self.run_code(code, result,  async_=asy)):\n"
     ]
    }
   ],
   "source": [
    "Phobos = read_from_txt(\"full_io_files/Phobos_08052019.txt\")\n",
    "Phobos = remove_acks(Phobos)\n",
    "#Phobos = remove_treeID(Phobos, 0)\n",
    "#Phobos = remove_SessionID(Phobos, 0)\n",
    "create_csv(Phobos, \"saved_csv/Phobos_08052019.csv\")"
   ]
  },
  {
   "cell_type": "code",
   "execution_count": 51,
   "metadata": {},
   "outputs": [],
   "source": [
    "#show_analysis(wanna, 9)"
   ]
  },
  {
   "cell_type": "code",
   "execution_count": null,
   "metadata": {},
   "outputs": [],
   "source": [
    "#show_analysis(sopa,9)"
   ]
  },
  {
   "cell_type": "code",
   "execution_count": null,
   "metadata": {},
   "outputs": [],
   "source": [
    "#show_analysis(revange,8)"
   ]
  },
  {
   "cell_type": "code",
   "execution_count": null,
   "metadata": {},
   "outputs": [],
   "source": [
    "#show_analysis(crptFile,8)"
   ]
  },
  {
   "cell_type": "code",
   "execution_count": null,
   "metadata": {},
   "outputs": [],
   "source": [
    "#show_analysis(GandCrab,8)"
   ]
  },
  {
   "cell_type": "code",
   "execution_count": null,
   "metadata": {},
   "outputs": [],
   "source": [
    "#show_analysis(GlobeImposter,8)"
   ]
  },
  {
   "cell_type": "code",
   "execution_count": null,
   "metadata": {},
   "outputs": [],
   "source": [
    "#show_analysis(Jaff,8)"
   ]
  },
  {
   "cell_type": "code",
   "execution_count": null,
   "metadata": {},
   "outputs": [],
   "source": [
    "#show_analysis(maktub,8)"
   ]
  },
  {
   "cell_type": "code",
   "execution_count": null,
   "metadata": {},
   "outputs": [],
   "source": [
    "#show_analysis(Maze,8)"
   ]
  },
  {
   "cell_type": "code",
   "execution_count": null,
   "metadata": {},
   "outputs": [],
   "source": [
    "#show_analysis(Mole,8)"
   ]
  },
  {
   "cell_type": "code",
   "execution_count": null,
   "metadata": {},
   "outputs": [],
   "source": [
    "#show_analysis(RansomX,8)"
   ]
  },
  {
   "cell_type": "code",
   "execution_count": null,
   "metadata": {},
   "outputs": [],
   "source": [
    "#show_analysis(Razi,8)"
   ]
  },
  {
   "cell_type": "code",
   "execution_count": null,
   "metadata": {},
   "outputs": [],
   "source": [
    "#show_analysis(Sage, 8)"
   ]
  },
  {
   "cell_type": "code",
   "execution_count": null,
   "metadata": {},
   "outputs": [],
   "source": [
    "#show_analysis(Scarab, 8)"
   ]
  },
  {
   "cell_type": "code",
   "execution_count": null,
   "metadata": {},
   "outputs": [],
   "source": [
    "#show_analysis(Shade, 8)"
   ]
  },
  {
   "cell_type": "code",
   "execution_count": null,
   "metadata": {},
   "outputs": [],
   "source": [
    "#show_analysis(Sodinokibi,8)"
   ]
  },
  {
   "cell_type": "code",
   "execution_count": null,
   "metadata": {},
   "outputs": [],
   "source": [
    "#show_analysis(Stop,5)"
   ]
  },
  {
   "cell_type": "code",
   "execution_count": null,
   "metadata": {},
   "outputs": [],
   "source": [
    "#show_analysis(TeslaCrypt,9)"
   ]
  },
  {
   "cell_type": "code",
   "execution_count": null,
   "metadata": {},
   "outputs": [],
   "source": [
    "#show_analysis(Virlock,8)"
   ]
  },
  {
   "cell_type": "code",
   "execution_count": null,
   "metadata": {},
   "outputs": [],
   "source": [
    "#show_analysis(Zeus,8)"
   ]
  },
  {
   "cell_type": "code",
   "execution_count": 46,
   "metadata": {},
   "outputs": [
    {
     "data": {
      "image/png": "[encoded data removed]",
      "text/plain": [
       "<Figure size 432x288 with 1 Axes>"
      ]
     },
     "metadata": {},
     "output_type": "display_data"
    },
    {
     "data": {
      "image/png": "[encoded data removed]",
      "text/plain": [
       "<Figure size 432x288 with 1 Axes>"
      ]
     },
     "metadata": {
      "needs_background": "light"
     },
     "output_type": "display_data"
    },
    {
     "name": "stdout",
     "output_type": "stream",
     "text": [
      "count      38.000000\n",
      "mean      949.473684\n",
      "std       942.632598\n",
      "min         0.000000\n",
      "25%         0.000000\n",
      "50%      1149.500000\n",
      "75%      1772.625000\n",
      "max      2549.500000\n",
      "Name: Timestamp, dtype: float64\n"
     ]
    },
    {
     "data": {
      "image/png": "[encoded data removed]",
      "text/plain": [
       "<Figure size 432x288 with 1 Axes>"
      ]
     },
     "metadata": {
      "needs_background": "light"
     },
     "output_type": "display_data"
    }
   ],
   "source": [
    "Combined_analysis(Zeus, Jaff, Stop, wanna, sopa, RansomX, TeslaCrypt, revange, GlobeImposter, Ryuk,9)"
   ]
  },
  {
   "cell_type": "code",
   "execution_count": 47,
   "metadata": {},
   "outputs": [
    {
     "data": {
      "image/png": "[encoded data removed]",
      "text/plain": [
       "<Figure size 432x288 with 1 Axes>"
      ]
     },
     "metadata": {
      "needs_background": "light"
     },
     "output_type": "display_data"
    }
   ],
   "source": [
    "Combined_analysis_boxblots (Zeus, Jaff, Stop, wanna, sopa, RansomX, TeslaCrypt, revange, GlobeImposter, Ryuk, 9)"
   ]
  },
  {
   "cell_type": "code",
   "execution_count": 48,
   "metadata": {},
   "outputs": [
    {
     "data": {
      "image/png": "[encoded data removed]",
      "text/plain": [
       "<Figure size 432x288 with 1 Axes>"
      ]
     },
     "metadata": {
      "needs_background": "light"
     },
     "output_type": "display_data"
    }
   ],
   "source": [
    "Combined_analysis_boxblots(Zeus, Jaff, Stop, wanna, sopa, RansomX, TeslaCrypt, revange, GlobeImposter, Ryuk, 8)"
   ]
  },
  {
   "cell_type": "code",
   "execution_count": 49,
   "metadata": {},
   "outputs": [
    {
     "name": "stdout",
     "output_type": "stream",
     "text": [
      "count     100.000000\n",
      "mean      507.710000\n",
      "std       259.872474\n",
      "min         0.000000\n",
      "25%       338.500000\n",
      "50%       538.500000\n",
      "75%       687.750000\n",
      "max      1046.000000\n",
      "Name: Timestamp, dtype: float64\n"
     ]
    },
    {
     "data": {
      "image/png": "[encoded data removed]",
      "text/plain": [
       "<Figure size 432x288 with 1 Axes>"
      ]
     },
     "metadata": {
      "needs_background": "light"
     },
     "output_type": "display_data"
    }
   ],
   "source": [
    "Combined_analysis_by_percentage(Zeus, Jaff, Stop, wanna, sopa, RansomX, TeslaCrypt, revange, GlobeImposter, Ryuk, 8)"
   ]
  },
  {
   "cell_type": "code",
   "execution_count": 50,
   "metadata": {},
   "outputs": [
    {
     "name": "stdout",
     "output_type": "stream",
     "text": [
      "\n",
      "log 1\n",
      "23134\n",
      "\n",
      "log 2\n",
      "12934\n",
      "\n",
      "log 3\n",
      "10471\n",
      "\n",
      "log 4\n",
      "35848\n",
      "\n",
      "log 5\n",
      "20803\n",
      "\n",
      "log 6\n",
      "19212\n",
      "\n",
      "log 7\n",
      "12812\n",
      "\n",
      "log 8\n",
      "7454\n",
      "\n",
      "log 9\n",
      "15237\n",
      "\n",
      "log 10\n",
      "6097\n"
     ]
    }
   ],
   "source": [
    "number_of_files_for_many(Zeus, Jaff, Stop, wanna, sopa, RansomX, TeslaCrypt, revange, GlobeImposter, Ryuk)"
   ]
  },
  {
   "cell_type": "code",
   "execution_count": null,
   "metadata": {},
   "outputs": [],
   "source": []
  }
 ],
 "metadata": {
  "kernelspec": {
   "display_name": "Python 3",
   "language": "python",
   "name": "python3"
  },
  "language_info": {
   "codemirror_mode": {
    "name": "ipython",
    "version": 3
   },
   "file_extension": ".py",
   "mimetype": "text/x-python",
   "name": "python",
   "nbconvert_exporter": "python",
   "pygments_lexer": "ipython3",
   "version": "3.8.5"
  }
 },
 "nbformat": 4,
 "nbformat_minor": 4
}
